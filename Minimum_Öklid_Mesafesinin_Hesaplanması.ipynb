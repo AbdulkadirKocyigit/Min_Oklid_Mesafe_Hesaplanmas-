{
 "cells": [
  {
   "cell_type": "code",
   "execution_count": 1,
   "id": "28ebbbbf",
   "metadata": {},
   "outputs": [
    {
     "name": "stdout",
     "output_type": "stream",
     "text": [
      "Noktalar arasındaki minimum Öklid mesafesi: 2.23606797749979\n"
     ]
    }
   ],
   "source": [
    "import math\n",
    "\n",
    "# Öklid mesafesini hesaplayan fonksiyon\n",
    "def euclideanDistance(point1, point2):\n",
    "    \"\"\"\n",
    "    İki nokta arasındaki Öklid mesafesini hesaplar.\n",
    "    \n",
    "    Args:\n",
    "        point1 (tuple): Birinci nokta (x, y) formatında.\n",
    "        point2 (tuple): İkinci nokta (x, y) formatında.\n",
    "    \n",
    "    Returns:\n",
    "        float: İki nokta arasındaki mesafe.\n",
    "    \"\"\"\n",
    "    # Noktalar arasındaki farkları hesapla\n",
    "    delta_x = point2[0] - point1[0]\n",
    "    delta_y = point2[1] - point1[1]\n",
    "    \n",
    "    # Öklid mesafesini hesapla\n",
    "    distance = math.sqrt(delta_x**2 + delta_y**2)\n",
    "    \n",
    "    return distance\n",
    "\n",
    "# Noktaların tanımlanması\n",
    "points = [(2, 3), (3, 5), (5, 7), (6, 1), (8, 4)]\n",
    "\n",
    "# Mesafeleri saklamak için boş bir liste\n",
    "distances = []\n",
    "\n",
    "# Mesafelerin hesaplanması\n",
    "for i in range(len(points)):\n",
    "    for j in range(i + 1, len(points)):\n",
    "        # Her iki nokta çifti için mesafeyi hesapla\n",
    "        distance = euclideanDistance(points[i], points[j])\n",
    "        # Hesaplanan mesafeyi distances listesine ekle\n",
    "        distances.append(distance)\n",
    "\n",
    "# Minimum mesafenin bulunması\n",
    "min_distance = min(distances)\n",
    "\n",
    "# Sonuçları yazdır\n",
    "print(\"Noktalar arasındaki minimum Öklid mesafesi:\", min_distance)\n"
   ]
  },
  {
   "cell_type": "code",
   "execution_count": null,
   "id": "8c75ebff",
   "metadata": {},
   "outputs": [],
   "source": []
  }
 ],
 "metadata": {
  "kernelspec": {
   "display_name": "Python 3 (ipykernel)",
   "language": "python",
   "name": "python3"
  },
  "language_info": {
   "codemirror_mode": {
    "name": "ipython",
    "version": 3
   },
   "file_extension": ".py",
   "mimetype": "text/x-python",
   "name": "python",
   "nbconvert_exporter": "python",
   "pygments_lexer": "ipython3",
   "version": "3.11.5"
  }
 },
 "nbformat": 4,
 "nbformat_minor": 5
}
